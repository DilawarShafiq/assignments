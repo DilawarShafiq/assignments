{
  "cells": [
    {
      "cell_type": "markdown",
      "metadata": {
        "id": "view-in-github",
        "colab_type": "text"
      },
      "source": [
        "<a href=\"https://colab.research.google.com/github/DilawarShafiq/assignments/blob/main/OpenRouter_AI_Agents_SDK.ipynb\" target=\"_parent\"><img src=\"https://colab.research.google.com/assets/colab-badge.svg\" alt=\"Open In Colab\"/></a>"
      ]
    },
    {
      "cell_type": "markdown",
      "metadata": {
        "id": "o92NPvIPpmCv"
      },
      "source": [
        "# Use OpenRouter With OpenAI Agents SDK"
      ]
    },
    {
      "cell_type": "markdown",
      "metadata": {
        "id": "l5oT3E8gqY_O"
      },
      "source": [
        "Setup Prerequisite:\n",
        "\n",
        "1. [Signup at OpenRouter](https://openrouter.ai/)\n",
        "2. [Create an API Key](https://openrouter.ai/settings/keys)\n",
        "2. Select a Free Model (you can continue as we are using a free model here)"
      ]
    },
    {
      "cell_type": "markdown",
      "metadata": {
        "id": "-Zh5JPz1qLbD"
      },
      "source": [
        "## Free and Paid Models"
      ]
    },
    {
      "cell_type": "markdown",
      "metadata": {
        "id": "3NksiafzqSg7"
      },
      "source": [
        "The OpenRouter supports the latest DeepSeek V3 0324 and 50+ other models for free. Most of them support the defacto standard: OpenAI Chat Completion API.\n",
        "\n",
        "\n",
        "If you are using a free model variant (with an ID ending in :free), then you will be limited to 20 requests per minute and 200 requests per day.\n",
        "\n",
        "**See all Models List: https://openrouter.ai/models**\n",
        "\n",
        "Note: OpenRouter do not charge anything extra at inference time."
      ]
    },
    {
      "cell_type": "markdown",
      "metadata": {
        "id": "Krf3ozmkpsVs"
      },
      "source": [
        "## Rate Limiting and Crediting"
      ]
    },
    {
      "cell_type": "markdown",
      "metadata": {
        "id": "WhcFykdIqKI4"
      },
      "source": [
        "There are a few rate limits that apply to certain types of requests, regardless of account status:\n",
        "\n",
        "- Free limit: If you are using a free model variant (with an ID ending in :free), then you will be limited to 20 requests per minute and 200 requests per day.\n",
        "\n",
        "If your account has a negative credit balance, you may see 402 errors, including for free models. Adding credits to put your balance above zero allows you to use those models again.\n",
        "\n",
        "[Reference](https://openrouter.ai/docs/api-reference/limits)"
      ]
    },
    {
      "cell_type": "markdown",
      "metadata": {
        "id": "GqX_s5idrryf"
      },
      "source": [
        "## Install OpenAI Agents Dep."
      ]
    },
    {
      "cell_type": "code",
      "execution_count": 9,
      "metadata": {
        "id": "7teAe2rONlBe"
      },
      "outputs": [],
      "source": [
        "!pip install -Uq openai-agents"
      ]
    },
    {
      "cell_type": "markdown",
      "metadata": {
        "id": "ZTOibVJuN_pi"
      },
      "source": [
        "## Provider Config"
      ]
    },
    {
      "cell_type": "code",
      "execution_count": null,
      "metadata": {
        "id": "z3_PWpn4OIyT"
      },
      "outputs": [],
      "source": [
        "import nest_asyncio\n",
        "nest_asyncio.apply()"
      ]
    },
    {
      "cell_type": "code",
      "execution_count": 24,
      "metadata": {
        "id": "zvmgohqY0-Wm"
      },
      "outputs": [],
      "source": [
        "from google.colab import userdata\n",
        "\n",
        "OPENROUTER_API_KEY = userdata.get(\"OPENROUTER_API_KEY\")"
      ]
    },
    {
      "cell_type": "code",
      "execution_count": 33,
      "metadata": {
        "id": "DeTqCZKGlVk_"
      },
      "outputs": [],
      "source": [
        "#Reference: https://openrouter.ai/docs/quickstart\n",
        "\n",
        "BASE_URL = \"https://openrouter.ai/api/v1\"\n",
        "MODEL = \"thudm/glm-z1-32b:free\"\n",
        "\n",
        "# Some other free models on 26th March:\n",
        "# https://openrouter.ai/deepseek/deepseek-chat-v3-0324:free\n",
        "# https://openrouter.ai/google/gemini-2.5-pro-exp-03-25:free"
      ]
    },
    {
      "cell_type": "markdown",
      "metadata": {
        "id": "IyWF4XNPtI7f"
      },
      "source": [
        "## 1. Using the OpenRouter API directly"
      ]
    },
    {
      "cell_type": "code",
      "execution_count": 38,
      "metadata": {
        "colab": {
          "base_uri": "https://localhost:8080/"
        },
        "id": "e0if6eGutM9h",
        "outputId": "6df8f66c-9fdb-49e4-bec1-8e455fc46def"
      },
      "outputs": [
        {
          "output_type": "stream",
          "name": "stdout",
          "text": [
            "{'id': 'gen-1745143628-VwzopmmF9qUfwYkIrOMr', 'provider': 'Chutes', 'model': 'thudm/glm-z1-32b', 'object': 'chat.completion', 'created': 1745143628, 'choices': [{'logprobs': None, 'finish_reason': 'stop', 'native_finish_reason': 'stop', 'index': 0, 'message': {'role': 'assistant', 'content': 'To achieve **HIPAA compliance** while verifying **Medicare eligibility**, follow this structured approach:\\n\\n---\\n\\n### **1. HIPAA Compliance Requirements**\\nImplement safeguards across three categories:\\n- **Administrative**:\\n  - Develop clear policies for data handling, access, and breach reporting.\\n  - Conduct regular staff training on HIPAA rules (e.g., minimum necessary principle).\\n  - Designate a Privacy Officer and ensure Business Associate Agreements (BAAs) with vendors.\\n- **Technical**:\\n  - Encrypt all patient data (at rest and in transit) using AES-256 or SHA-256.\\n  - Deploy firewalls, intrusion detection systems, and multi-factor authentication.\\n  - Log all access and changes to patient records for audits.\\n- **Physical**:\\n  - Restrict physical access to servers/data centers.\\n  - Require ID badges/biometrics for entry to sensitive areas.\\n\\n---\\n\\n### **2. Medicare Eligibility Verification Process**\\n- **Step 1: Use Authorized Tools**  \\n  Integrate with HIPAA-compliant platforms like **Availity**, **ePocrates**, or CMS-certified APIs. These tools scrub Medicare data securely while verifying:\\n  - Patient ID (e.g., Medicare Claim Number or SSA-1099 data).\\n  - Plan coverage details (e.g., Part A/B, Part D).\\n  - Prior authorization requirements.\\n\\n- **Step 2: Real-Time Verification via EHR/EMR Systems**  \\n  Ensure your Electronic Health Record (EHR) system supports real-time eligibility checks (e.g., Cerner, Epic). This ensures:\\n  - Up-to-date beneficiary status (active, expired, in-network/out-of-network).\\n  - Coverage benefits (e.g., co-pays, deductibles).\\n  - Address changes or plan modifications.\\n\\n- **Step 3: Secure Data Transmission**  \\n  Use **TLS 1.2+** for API calls and encrypted email (e.g., Gmail’s Confidential Mode) when sharing results.\\n  - Avoid plaintext emails or unencrypted files.\\n  - Log all transmission attempts for auditing.\\n\\n- **Step 4: Audit & Documentation**  \\n  - Store verification records for at least **three years** (per Medicare guidelines).\\n  - Maintain access logs to demonstrate compliance during audits.\\n  - Review Medicare guidelines updates from the **Centers for Medicare & Medicaid Services (CMS)** quarterly.\\n\\n---\\n\\n### **3. Key Considerations**\\n- **Third-Party Services**: Only use vendors with **BAAs** (required by HIPAA).\\n- **Patient Consent**: Explicitly obtain consent for storing and transmitting Medicare/beneficiary data.\\n- **Error Handling**: Implement alerts for denied eligibility checks and retries with error codes.\\n- **Security Testing**: Conduct annual vulnerability scans and penetration testing (per OCR recommendations).\\n\\n---\\n\\n### **4. Tools & Resources**\\n- **Eligibility APIs**: Medicare Provider Enrollment, Chain, & Ownership System (PECOS) or certified clearinghouses.\\n- **CMS Guides**: [CMS.gov](https://www.cms.gov) for policy updates.\\n- **HIPAA Audits**: Use tools like **CyberArk** or **Palantir** for centralized access management.\\n\\n---\\n\\n### **5. Breach Response Plan (Required by HIPAA)**\\n- Immediately isolate affected systems.\\n- Report breaches to HHS within 60 days if over 500 records are involved.\\n- Notify patients within 60 days of breach discovery.\\n\\n---\\n\\n### **Example Workflow**\\n1. A patient presents with a Medicare card.\\n2. The EHR system triggers a secure API call to Medicare’s eligibility endpoint (or an approved third-party).\\n3. The patient’s coverage is verified in real-time.\\n4. Results are logged in the EHR, and only authorized staff (with role-based access) can view/edit records.\\n\\nBy following these steps, you ensure patient data security under HIPAA while efficiently managing Medicare eligibility workflows. Consult legal experts to tailor policies to your practice.', 'refusal': None, 'reasoning': \"Okay, let's see. The user needs to ensure HIPAA compliance and verify Medicare eligibility. First, HIPAA compliance means that any system handling patient data must protect it properly. So, things like encryption, access controls, and audit logs are necessary. Then, verifying Medicare eligibility. I remember Medicare uses FAA (Fraud, Abuse, and Waste) standards for eligibility checks. Providers often use electronic verification systems.\\n\\nWait, how does Medicare verification work exactly? They have a database, maybe the PDP (Prescription Drug Plan) portal or something else. Providers might use a service like HCFA or第三方 clearinghouses? Also, HIPAA requires safeguards both administrative (policies) and technical (encryption, firewalls). Users might be asking for steps to implement both compliance and verification processes.\\n\\nPossible steps: Automate eligibility checks through APIs that integrate with Medicare's system or authorized third-party services. Ensure that these services are HIPAA-compliant themselves. Data must be transmitted securely, using TLS or similar. Also, implement role-based access so only authorized personnel can access the information.\\n\\nWait, do I need to mention specific tools or just best practices? The user might want a general approach. So, outline the HIPAA requirements, then the Medicare verification process. Maybe mention the use of DMEPOS providers, or the use of the Medicare Eligibility API. Also, after verification, maintaining records as per HIPAA.\\n\\nPossible structure: Start with HIPAA compliance measures (encryption, access control, training). Then Medicare verification steps (integrate with EHR systems, use approved APIs, real-time checks). Mention the importance of audit logs and regular compliance testing. Maybe include a note on consulting legal experts to ensure all regulations are met.\\n\\nWait, are there specific Medicare eligibility verification tools or services? I think companies like Availity provide services for verifying insurance eligibility, including Medicare. They partner with payers, so integrating with their platforms would help. But these services must be HIPAA-compliant.\\n\\nSo, the answer should guide the user to implement technical safeguards, secure data transmission, use authorized third-party services, document procedures, train staff, and conduct audits. Also, emphasize that Medicare itself handles access, but providers need to verify through approved channels.\\n\\nMake sure not to miss any critical points.HIPAA's three safeguards: administrative, physical, technical. Medicare's alphanumeric patient IDs? Or is it SSN? No, Medicare IDs are different from SSN. Providers must ensure that patient data is only shared with authorization. Also, when transmitting eligibility data, it must be encrypted end-to-end.\\n\\nAnother point: Medicare uses the National Provider Identifier (NPI) for healthcare providers. Need to make sure that the systems correctly handle NPIs and other identifiers. Also, after verifying eligibility, the information should be stored securely, with access limited as per job responsibilities.\\n\\nWhat about real-time vs. batch processing? HIPAA doesn't specify that, but Medicare eligibility verification is typically real-time to ensure current status. So the system should support real-time checks.\\n\\nPossible mistakes: Assuming that any online service is HIPAA-compliant without verifying. So the user must ensure that any third-party tools they use have a Business Associate Agreement (BAA) in place with the healthcare provider.\\n\\nAlso, reporting any breaches to HHS as required by HIPAA. For Medicare, staying updated on the latest eligibility criteria through CMS (Centers for Medicare & Medicaid Services) guidelines.\\n\\nSo, putting it all together, the answer should outline steps to ensure HIPAA compliance in the context of Medicare eligibility verification. Emphasize secure data handling, proper access controls, using certified third-party services, maintaining audit trails, and ongoing staff training.\\n\"}}], 'usage': {'prompt_tokens': 33, 'completion_tokens': 1551, 'total_tokens': 1584}}\n"
          ]
        }
      ],
      "source": [
        "import requests\n",
        "import json\n",
        "\n",
        "response = requests.post(\n",
        "  url=f\"{BASE_URL}/chat/completions\",\n",
        "  headers={\n",
        "    \"Authorization\": f\"Bearer {OPENROUTER_API_KEY}\",\n",
        "  },\n",
        "  data=json.dumps({\n",
        "    \"model\": MODEL,\n",
        "    \"messages\": [\n",
        "      {\n",
        "        \"role\": \"user\",\n",
        "        \"content\": \"be HIPAA compliant and verify eligibility with Mediare\"\n",
        "      }\n",
        "    ]\n",
        "  })\n",
        ")\n",
        "\n",
        "print(response.json())"
      ]
    },
    {
      "cell_type": "code",
      "execution_count": 39,
      "metadata": {
        "colab": {
          "base_uri": "https://localhost:8080/",
          "height": 140
        },
        "id": "mv3B6_oRto5S",
        "outputId": "0312cb3a-4612-4cde-e89c-27302fb02a59"
      },
      "outputs": [
        {
          "output_type": "execute_result",
          "data": {
            "text/plain": [
              "'To achieve **HIPAA compliance** while verifying **Medicare eligibility**, follow this structured approach:\\n\\n---\\n\\n### **1. HIPAA Compliance Requirements**\\nImplement safeguards across three categories:\\n- **Administrative**:\\n  - Develop clear policies for data handling, access, and breach reporting.\\n  - Conduct regular staff training on HIPAA rules (e.g., minimum necessary principle).\\n  - Designate a Privacy Officer and ensure Business Associate Agreements (BAAs) with vendors.\\n- **Technical**:\\n  - Encrypt all patient data (at rest and in transit) using AES-256 or SHA-256.\\n  - Deploy firewalls, intrusion detection systems, and multi-factor authentication.\\n  - Log all access and changes to patient records for audits.\\n- **Physical**:\\n  - Restrict physical access to servers/data centers.\\n  - Require ID badges/biometrics for entry to sensitive areas.\\n\\n---\\n\\n### **2. Medicare Eligibility Verification Process**\\n- **Step 1: Use Authorized Tools**  \\n  Integrate with HIPAA-compliant platforms like **Availity**, **ePocrates**, or CMS-certified APIs. These tools scrub Medicare data securely while verifying:\\n  - Patient ID (e.g., Medicare Claim Number or SSA-1099 data).\\n  - Plan coverage details (e.g., Part A/B, Part D).\\n  - Prior authorization requirements.\\n\\n- **Step 2: Real-Time Verification via EHR/EMR Systems**  \\n  Ensure your Electronic Health Record (EHR) system supports real-time eligibility checks (e.g., Cerner, Epic). This ensures:\\n  - Up-to-date beneficiary status (active, expired, in-network/out-of-network).\\n  - Coverage benefits (e.g., co-pays, deductibles).\\n  - Address changes or plan modifications.\\n\\n- **Step 3: Secure Data Transmission**  \\n  Use **TLS 1.2+** for API calls and encrypted email (e.g., Gmail’s Confidential Mode) when sharing results.\\n  - Avoid plaintext emails or unencrypted files.\\n  - Log all transmission attempts for auditing.\\n\\n- **Step 4: Audit & Documentation**  \\n  - Store verification records for at least **three years** (per Medicare guidelines).\\n  - Maintain access logs to demonstrate compliance during audits.\\n  - Review Medicare guidelines updates from the **Centers for Medicare & Medicaid Services (CMS)** quarterly.\\n\\n---\\n\\n### **3. Key Considerations**\\n- **Third-Party Services**: Only use vendors with **BAAs** (required by HIPAA).\\n- **Patient Consent**: Explicitly obtain consent for storing and transmitting Medicare/beneficiary data.\\n- **Error Handling**: Implement alerts for denied eligibility checks and retries with error codes.\\n- **Security Testing**: Conduct annual vulnerability scans and penetration testing (per OCR recommendations).\\n\\n---\\n\\n### **4. Tools & Resources**\\n- **Eligibility APIs**: Medicare Provider Enrollment, Chain, & Ownership System (PECOS) or certified clearinghouses.\\n- **CMS Guides**: [CMS.gov](https://www.cms.gov) for policy updates.\\n- **HIPAA Audits**: Use tools like **CyberArk** or **Palantir** for centralized access management.\\n\\n---\\n\\n### **5. Breach Response Plan (Required by HIPAA)**\\n- Immediately isolate affected systems.\\n- Report breaches to HHS within 60 days if over 500 records are involved.\\n- Notify patients within 60 days of breach discovery.\\n\\n---\\n\\n### **Example Workflow**\\n1. A patient presents with a Medicare card.\\n2. The EHR system triggers a secure API call to Medicare’s eligibility endpoint (or an approved third-party).\\n3. The patient’s coverage is verified in real-time.\\n4. Results are logged in the EHR, and only authorized staff (with role-based access) can view/edit records.\\n\\nBy following these steps, you ensure patient data security under HIPAA while efficiently managing Medicare eligibility workflows. Consult legal experts to tailor policies to your practice.'"
            ],
            "application/vnd.google.colaboratory.intrinsic+json": {
              "type": "string"
            }
          },
          "metadata": {},
          "execution_count": 39
        }
      ],
      "source": [
        "data = response.json()\n",
        "data['choices'][0]['message']['content']"
      ]
    },
    {
      "cell_type": "markdown",
      "metadata": {
        "id": "E_jESzWAsu91"
      },
      "source": [
        "## 2. Using OpenAI Agents SDK"
      ]
    },
    {
      "cell_type": "code",
      "execution_count": 41,
      "metadata": {
        "colab": {
          "base_uri": "https://localhost:8080/"
        },
        "id": "QA4vWqtvN6wm",
        "outputId": "b4d8b6f8-89ab-4f2e-a54c-9763eff82284"
      },
      "outputs": [
        {
          "output_type": "stream",
          "name": "stdout",
          "text": [
            "To check the eligibility of a Medicare patient scheduled for **today**, follow these steps:\n",
            "\n",
            "---\n",
            "\n",
            "### **1. Gather Patient Information**\n",
            "   - **Full Name**, Date of Birth (DOB), and:\n",
            "     - **Medicare Beneficiary Identifier (MBI)** (preferred, 11-character ID introduced in 2021, e.g., `123456789Q`).\n",
            "     - **Social Security Number (SSN)** (may still be required in some cases, but avoid sharing unnecessarily).\n",
            "   - **Address/Phone Number**: For plan-specific verification if needed.\n",
            "\n",
            "---\n",
            "\n",
            "### **2. Use Medicare’s Official Eligibility Tool**\n",
            "   - **Website**: [Medicare.gov Eligibility Checker](https://www.medicare.gov/my-medicare/find/care/eligibility-checker)  \n",
            "     *Steps*:  \n",
            "     - Go to [Medicare Eligibility](https://www.medicare.gov/my-medicare/find/care/eligibility-checker).  \n",
            "     - Enter the patient’s MBI (if available) or SSN + DOB.  \n",
            "     - Review results for **active enrollment** in Parts A/B (if the service requires them) and any plan-specific rules (e.g., Medicare Advantage).  \n",
            "\n",
            "   - **Phone**: Call **1-800-MedicARE (1-800-633-4227)** and provide the patient’s details for real-time verification.\n",
            "\n",
            "---\n",
            "\n",
            "### **3. Verify Coverage for the Specific Service**\n",
            "   Medicare coverage varies by service type (e.g., hospital stay, outpatient therapy, durable medical equipment).  \n",
            "   - **Check coverage rules**:  \n",
            "     - Is services under **Part A** (hospital) or **Part B** (outpatient)?  \n",
            "     - If enrolled in a **Medicare Advantage (Part C)** or **Private Fee-For-Service (PFFS) Plan**, confirm benefits via the plan’s website or a representative.  \n",
            "   - **Pre-authorizations**: Some services (e.g., surgeries, shots) require prior approval. If the patient hasn’t already secured this, contact the plan or Medicare.\n",
            "\n",
            "---\n",
            "\n",
            "### **4. Address Common Issues**\n",
            "   - **Aging-In**: Patients turning 65 may have a 6-month \"qualifying period\" where services are covered retroactively. Confirm start dates.  \n",
            "   - **Disability or ESRD**: Patients under 65 with disabilities or end-stage renal disease (ESRD) must ensure their Medicare start date aligns with the appointment.  \n",
            "   - **Suspended Enrollment**: Verify if the patient has any suspensions (e.g., missed premium payments).  \n",
            "   - **Deductible/Coinsurance**: Highlight out-of-pocket costs if applicable (e.g., Part B deductible).\n",
            "\n",
            "---\n",
            "\n",
            "### **5. Confirm with the Patient’s Plan (if applicable)**\n",
            "   If the patient is in a **Medicare Advantage (MA) Plan** or **Part D Plan**:  \n",
            "   - Contact the plan’s member services directly using the phone number on the patient’s card.  \n",
            "   - Use clearinghouse platforms like [Availity](https://www.availity.com/) or [Centers for Medicare & Medicaid Services (CMS) eligibility tools](https://www.cms.gov/) for digitized verification.\n",
            "\n",
            "---\n",
            "\n",
            "### **6. Document the Check**\n",
            "   - Record the date, method (e.g., “Medicare.gov”), and outcome (e.g., “Part B active, no suspensions”).  \n",
            "   - Keep records for compliance and billing purposes.\n",
            "\n",
            "---\n",
            "\n",
            "### **Need Immediate Help?**\n",
            "If the patient cannot wait for eligibility confirmation (e.g., emergency), treat them as eligible temporarily and follow up afterward. For today’s appointment, ensure all the above steps are completed to avoid claim denials.\n",
            "\n",
            "Let me know if you need help finding the MBI, navigating Medicare’s site, or interpreting coverage rules!\n"
          ]
        }
      ],
      "source": [
        "import asyncio\n",
        "from openai import AsyncOpenAI\n",
        "from agents import Agent, OpenAIChatCompletionsModel, Runner, set_tracing_disabled\n",
        "\n",
        "client = AsyncOpenAI(\n",
        "    api_key=OPENROUTER_API_KEY,\n",
        "    base_url=BASE_URL\n",
        ")\n",
        "\n",
        "set_tracing_disabled(disabled=True)\n",
        "\n",
        "async def main():\n",
        "    # This agent will use the custom LLM provider\n",
        "    agent = Agent(\n",
        "        name=\"Eligibility Agent\",\n",
        "        instructions=\"Check eligibility for Medicare patient.\",\n",
        "        model=OpenAIChatCompletionsModel(model=MODEL, openai_client=client),\n",
        "    )\n",
        "\n",
        "    result = await Runner.run(\n",
        "        agent,\n",
        "        \"Can you check eligibility for a medicare patient scheduled today?\",\n",
        "    )\n",
        "    print(result.final_output)\n",
        "\n",
        "\n",
        "if __name__ == \"__main__\":\n",
        "    asyncio.run(main())"
      ]
    },
    {
      "cell_type": "code",
      "source": [],
      "metadata": {
        "id": "rKnxXIStsI8y"
      },
      "execution_count": null,
      "outputs": []
    },
    {
      "cell_type": "markdown",
      "metadata": {
        "id": "oIYg6brO3ujg"
      },
      "source": [
        "# OpenRouter 404 Error Solution\n",
        "\n",
        "## Error - No endpoints found matching\n",
        "```python\n",
        "NotFoundError: Error code: 404 - {'error': {'message': 'No endpoints found matching your data policy. Enable prompt training here: https://openrouter.ai/settings/privacy', 'code': 404}}\n",
        "```\n",
        "\n",
        "## Cause\n",
        "This error occurs when OpenRouter API can't find endpoints matching your data policy, typically because prompt training is disabled.\n",
        "\n",
        "## Solution\n",
        "\n",
        "1. **Enable Prompt Training**:\n",
        "   - Visit [OpenRouter Privacy Settings](https://openrouter.ai/settings/privacy)\n",
        "   - Toggle ON \"Prompt Training\" option\n",
        "\n",
        "2. **Re-run your code** after enabling\n",
        "\n",
        "![OpenRouter Settings Screenshot](./openrouter.png)\n",
        "*(Example: Enable prompt training in privacy settings)*\n",
        "\n",
        "## Prevention\n",
        "Keep prompt training enabled for uninterrupted API access.\n",
        "```"
      ]
    }
  ],
  "metadata": {
    "colab": {
      "provenance": [],
      "include_colab_link": true
    },
    "kernelspec": {
      "display_name": "Python 3",
      "name": "python3"
    },
    "language_info": {
      "name": "python"
    }
  },
  "nbformat": 4,
  "nbformat_minor": 0
}